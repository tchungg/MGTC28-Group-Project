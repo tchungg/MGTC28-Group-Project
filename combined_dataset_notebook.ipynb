{
 "cells": [
  {
   "cell_type": "code",
   "execution_count": 4,
   "id": "af38d40e",
   "metadata": {},
   "outputs": [],
   "source": [
    "import pandas as pd"
   ]
  },
  {
   "cell_type": "code",
   "execution_count": 5,
   "id": "86aeabd3",
   "metadata": {},
   "outputs": [],
   "source": [
    "# Load the original data from the CSV file\n",
    "file_path_original = '~/Downloads/kenvue_data/Factory POS.csv'\n",
    "data_pos_original = pd.read_csv(file_path_original)\n",
    "\n",
    "customer_dc_inventory = pd.read_csv('~/Downloads/kenvue_data/Cleaned_Customer_DC_Inventory.csv')\n",
    "factory_pos = pd.read_csv('~/Downloads/kenvue_data/Cleaned_Factory_POS.csv')\n",
    "total_ecomm_pos_factory_dollars = pd.read_csv('~/Downloads/kenvue_data/Cleaned_Total_Ecomm_POS_Factory_Dollars.csv')\n",
    "total_sales = pd.read_csv('~/Downloads/kenvue_data/Cleaned_Total_Sales.csv')\n",
    "total_trade_spend = pd.read_csv('~/Downloads/kenvue_data/Cleaned_Total_Trade_Spend.csv')"
   ]
  },
  {
   "cell_type": "code",
   "execution_count": 6,
   "id": "06ae86b9",
   "metadata": {},
   "outputs": [],
   "source": [
    "# Merge the datasets on 'Year', 'Week', and 'Need State'\n",
    "combined_df = customer_dc_inventory.merge(factory_pos, on=['Year', 'Week', 'Need State'], how='outer', suffixes=('', '_Factory_POS'))\n",
    "combined_df = combined_df.merge(total_ecomm_pos_factory_dollars, on=['Year', 'Week', 'Need State'], how='outer', suffixes=('', '_Ecomm'))\n",
    "combined_df = combined_df.merge(total_sales, on=['Year', 'Week', 'Need State'], how='outer', suffixes=('', '_Total_Sales'))\n",
    "combined_df = combined_df.merge(total_trade_spend, on=['Year', 'Week', 'Need State'], how='outer', suffixes=('', '_Trade_Spend'))"
   ]
  },
  {
   "cell_type": "code",
   "execution_count": 7,
   "id": "69c25094",
   "metadata": {},
   "outputs": [],
   "source": [
    "# Rename columns for clarity\n",
    "combined_df.rename(columns={\n",
    "    'Amount': 'Amount_Factory_POS', \n",
    "    'Amount_Ecomm': 'Amount_Total_Ecomm_POS', \n",
    "    'Amount_Total_Sales': 'Amount_Total_Sales', \n",
    "    'Amount_Trade_Spend': 'Amount_Total_Trade_Spend'\n",
    "}, inplace=True)"
   ]
  },
  {
   "cell_type": "code",
   "execution_count": 9,
   "id": "e8d26870",
   "metadata": {},
   "outputs": [],
   "source": [
    "# Save the combined dataset to a CSV file\n",
    "combined_df.to_csv('~/Downloads/Kenvue_data/combined_dataset.csv', index=False)"
   ]
  },
  {
   "cell_type": "code",
   "execution_count": null,
   "id": "d91b25df",
   "metadata": {},
   "outputs": [],
   "source": []
  }
 ],
 "metadata": {
  "kernelspec": {
   "display_name": "Python 3 (ipykernel)",
   "language": "python",
   "name": "python3"
  },
  "language_info": {
   "codemirror_mode": {
    "name": "ipython",
    "version": 3
   },
   "file_extension": ".py",
   "mimetype": "text/x-python",
   "name": "python",
   "nbconvert_exporter": "python",
   "pygments_lexer": "ipython3",
   "version": "3.11.4"
  }
 },
 "nbformat": 4,
 "nbformat_minor": 5
}

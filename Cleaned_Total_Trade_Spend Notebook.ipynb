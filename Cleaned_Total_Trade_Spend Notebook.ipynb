{
 "cells": [
  {
   "cell_type": "code",
   "execution_count": 1,
   "id": "7dadc9aa",
   "metadata": {},
   "outputs": [],
   "source": [
    "import pandas as pd"
   ]
  },
  {
   "cell_type": "code",
   "execution_count": 2,
   "id": "b14b718e",
   "metadata": {},
   "outputs": [],
   "source": [
    "file_path = 'Downloads/Kenvue_data/Total Trade Spend.csv'"
   ]
  },
  {
   "cell_type": "code",
   "execution_count": 3,
   "id": "30a75255",
   "metadata": {},
   "outputs": [],
   "source": [
    "data = pd.read_csv(file_path)"
   ]
  },
  {
   "cell_type": "code",
   "execution_count": 4,
   "id": "41d74d15",
   "metadata": {},
   "outputs": [
    {
     "data": {
      "text/html": [
       "<div>\n",
       "<style scoped>\n",
       "    .dataframe tbody tr th:only-of-type {\n",
       "        vertical-align: middle;\n",
       "    }\n",
       "\n",
       "    .dataframe tbody tr th {\n",
       "        vertical-align: top;\n",
       "    }\n",
       "\n",
       "    .dataframe thead th {\n",
       "        text-align: right;\n",
       "    }\n",
       "</style>\n",
       "<table border=\"1\" class=\"dataframe\">\n",
       "  <thead>\n",
       "    <tr style=\"text-align: right;\">\n",
       "      <th></th>\n",
       "      <th>Fiscal Year</th>\n",
       "      <th>Fiscal Week</th>\n",
       "      <th>Need State 1</th>\n",
       "      <th>Need State 2</th>\n",
       "      <th>Need State 3</th>\n",
       "      <th>Need State 4</th>\n",
       "      <th>Need State 5</th>\n",
       "    </tr>\n",
       "  </thead>\n",
       "  <tbody>\n",
       "    <tr>\n",
       "      <th>0</th>\n",
       "      <td>2021</td>\n",
       "      <td>1</td>\n",
       "      <td>5552</td>\n",
       "      <td>14264</td>\n",
       "      <td>1563</td>\n",
       "      <td>18716</td>\n",
       "      <td>5075</td>\n",
       "    </tr>\n",
       "    <tr>\n",
       "      <th>1</th>\n",
       "      <td>2021</td>\n",
       "      <td>2</td>\n",
       "      <td>18939</td>\n",
       "      <td>12329</td>\n",
       "      <td>8658</td>\n",
       "      <td>8069</td>\n",
       "      <td>11307</td>\n",
       "    </tr>\n",
       "    <tr>\n",
       "      <th>2</th>\n",
       "      <td>2021</td>\n",
       "      <td>3</td>\n",
       "      <td>11346</td>\n",
       "      <td>6351</td>\n",
       "      <td>4032</td>\n",
       "      <td>3128</td>\n",
       "      <td>6585</td>\n",
       "    </tr>\n",
       "    <tr>\n",
       "      <th>3</th>\n",
       "      <td>2021</td>\n",
       "      <td>4</td>\n",
       "      <td>4801</td>\n",
       "      <td>14715</td>\n",
       "      <td>13935</td>\n",
       "      <td>9324</td>\n",
       "      <td>6835</td>\n",
       "    </tr>\n",
       "    <tr>\n",
       "      <th>4</th>\n",
       "      <td>2021</td>\n",
       "      <td>5</td>\n",
       "      <td>17470</td>\n",
       "      <td>16092</td>\n",
       "      <td>13601</td>\n",
       "      <td>5460</td>\n",
       "      <td>11902</td>\n",
       "    </tr>\n",
       "  </tbody>\n",
       "</table>\n",
       "</div>"
      ],
      "text/plain": [
       "   Fiscal Year  Fiscal Week  Need State 1  Need State 2  Need State 3  \\\n",
       "0         2021            1          5552         14264          1563   \n",
       "1         2021            2         18939         12329          8658   \n",
       "2         2021            3         11346          6351          4032   \n",
       "3         2021            4          4801         14715         13935   \n",
       "4         2021            5         17470         16092         13601   \n",
       "\n",
       "   Need State 4  Need State 5  \n",
       "0         18716          5075  \n",
       "1          8069         11307  \n",
       "2          3128          6585  \n",
       "3          9324          6835  \n",
       "4          5460         11902  "
      ]
     },
     "execution_count": 4,
     "metadata": {},
     "output_type": "execute_result"
    }
   ],
   "source": [
    "data.head()"
   ]
  },
  {
   "cell_type": "code",
   "execution_count": 5,
   "id": "9cb27c72",
   "metadata": {},
   "outputs": [],
   "source": [
    "cleaned_data = data.melt(id_vars=['Fiscal Year', 'Fiscal Week'], \n",
    "                         var_name='Need State', \n",
    "                         value_name='Amount')\n",
    "cleaned_data.rename(columns={'Fiscal Year': 'Year', 'Fiscal Week': 'Week'}, inplace=True)"
   ]
  },
  {
   "cell_type": "code",
   "execution_count": 6,
   "id": "811edcd5",
   "metadata": {},
   "outputs": [],
   "source": [
    "cleaned_data.to_csv('Downloads/Kenvue_data/Cleaned_Total_Trade_Spend.csv', index=False)"
   ]
  },
  {
   "cell_type": "code",
   "execution_count": null,
   "id": "8ef38f8f",
   "metadata": {},
   "outputs": [],
   "source": []
  }
 ],
 "metadata": {
  "kernelspec": {
   "display_name": "Python 3 (ipykernel)",
   "language": "python",
   "name": "python3"
  },
  "language_info": {
   "codemirror_mode": {
    "name": "ipython",
    "version": 3
   },
   "file_extension": ".py",
   "mimetype": "text/x-python",
   "name": "python",
   "nbconvert_exporter": "python",
   "pygments_lexer": "ipython3",
   "version": "3.11.4"
  }
 },
 "nbformat": 4,
 "nbformat_minor": 5
}

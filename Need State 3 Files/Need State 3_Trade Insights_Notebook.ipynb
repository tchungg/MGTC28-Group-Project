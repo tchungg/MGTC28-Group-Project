{
 "cells": [
  {
   "cell_type": "code",
   "execution_count": 1,
   "id": "dbd96f83",
   "metadata": {},
   "outputs": [],
   "source": [
    "import pandas as pd\n"
   ]
  },
  {
   "cell_type": "code",
   "execution_count": 2,
   "id": "d60240d4",
   "metadata": {},
   "outputs": [],
   "source": [
    "# Load the dataset\n",
    "file_path = '~/Downloads/Kenvue_data/cleaned_combined_dataset.csv'  # Update the path accordingly\n",
    "df = pd.read_csv(file_path)\n"
   ]
  },
  {
   "cell_type": "code",
   "execution_count": 3,
   "id": "5fb267d8",
   "metadata": {},
   "outputs": [],
   "source": [
    "# Filter for 'Need State 3' and select the specified columns\n",
    "filtered_df = df[df['Need State'] == 'Need State 3'][['Date', 'Year', 'Week', 'Amount_Total_Sales', 'Amount_Total_Trade_Spend']]\n"
   ]
  },
  {
   "cell_type": "code",
   "execution_count": 4,
   "id": "4d906565",
   "metadata": {},
   "outputs": [],
   "source": [
    "# Export the filtered data to a new CSV file\n",
    "export_file_path = '~/Downloads/Kenvue_data/Need State 3_Trade Insights.csv'  \n",
    "filtered_df.to_csv(export_file_path, index=False)"
   ]
  }
 ],
 "metadata": {
  "kernelspec": {
   "display_name": "Python 3 (ipykernel)",
   "language": "python",
   "name": "python3"
  },
  "language_info": {
   "codemirror_mode": {
    "name": "ipython",
    "version": 3
   },
   "file_extension": ".py",
   "mimetype": "text/x-python",
   "name": "python",
   "nbconvert_exporter": "python",
   "pygments_lexer": "ipython3",
   "version": "3.11.4"
  }
 },
 "nbformat": 4,
 "nbformat_minor": 5
}

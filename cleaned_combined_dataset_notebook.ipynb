{
 "cells": [
  {
   "cell_type": "code",
   "execution_count": 1,
   "id": "d8edf18c",
   "metadata": {},
   "outputs": [],
   "source": [
    "\n",
    "import pandas as pd\n",
    "data = pd.read_csv('~/Downloads/Kenvue_data/combined_dataset.csv')\n"
   ]
  },
  {
   "cell_type": "code",
   "execution_count": 2,
   "id": "a7fb08f4",
   "metadata": {},
   "outputs": [],
   "source": [
    "from datetime import datetime\n"
   ]
  },
  {
   "cell_type": "code",
   "execution_count": 3,
   "id": "c8bf0e2c",
   "metadata": {},
   "outputs": [],
   "source": [
    "# Handling missing values\n",
    "# Filling missing values in 'Amount_Total_Ecomm_POS', 'Amount_Total_Sales', and 'Amount_Total_Trade_Spend' with their respective medians\n",
    "data['Amount_Total_Ecomm_POS'].fillna(data['Amount_Total_Ecomm_POS'].median(), inplace=True)\n",
    "data['Amount_Total_Sales'].fillna(data['Amount_Total_Sales'].median(), inplace=True)\n",
    "data['Amount_Total_Trade_Spend'].fillna(data['Amount_Total_Trade_Spend'].median(), inplace=True)\n",
    "\n"
   ]
  },
  {
   "cell_type": "code",
   "execution_count": 4,
   "id": "da8233c7",
   "metadata": {},
   "outputs": [],
   "source": [
    "# For 'Dc Amount' and 'Store Amt On Hand', we need more context to decide. As a placeholder, let's fill them with their medians.\n",
    "data['Dc Amount'].fillna(data['Dc Amount'].median(), inplace=True)\n",
    "data['Store Amt On Hand'].fillna(data['Store Amt On Hand'].median(), inplace=True)\n",
    "\n"
   ]
  },
  {
   "cell_type": "code",
   "execution_count": 5,
   "id": "0c49c51f",
   "metadata": {},
   "outputs": [],
   "source": [
    "# For 'Date', we'll convert to datetime and handle missing values by forward filling\n",
    "data['Date'] = pd.to_datetime(data['Date'], errors='coerce')\n",
    "data['Date'].fillna(method='ffill', inplace=True)\n"
   ]
  },
  {
   "cell_type": "code",
   "execution_count": 6,
   "id": "e4848787",
   "metadata": {},
   "outputs": [],
   "source": [
    "\n",
    "# Checking the updated dataset for missing values\n",
    "updated_missing_values = data.isnull().sum()\n",
    "\n"
   ]
  },
  {
   "cell_type": "code",
   "execution_count": 9,
   "id": "f31e98af",
   "metadata": {},
   "outputs": [],
   "source": [
    "# Converting 'Date' to datetime type\n",
    "data['Date'] = pd.to_datetime(data['Date'], format='%Y-%m-%d')\n",
    "\n"
   ]
  },
  {
   "cell_type": "code",
   "execution_count": null,
   "id": "62f7481f",
   "metadata": {},
   "outputs": [],
   "source": []
  },
  {
   "cell_type": "code",
   "execution_count": null,
   "id": "77bd2715",
   "metadata": {},
   "outputs": [],
   "source": []
  }
 ],
 "metadata": {
  "kernelspec": {
   "display_name": "Python 3 (ipykernel)",
   "language": "python",
   "name": "python3"
  },
  "language_info": {
   "codemirror_mode": {
    "name": "ipython",
    "version": 3
   },
   "file_extension": ".py",
   "mimetype": "text/x-python",
   "name": "python",
   "nbconvert_exporter": "python",
   "pygments_lexer": "ipython3",
   "version": "3.11.4"
  }
 },
 "nbformat": 4,
 "nbformat_minor": 5
}

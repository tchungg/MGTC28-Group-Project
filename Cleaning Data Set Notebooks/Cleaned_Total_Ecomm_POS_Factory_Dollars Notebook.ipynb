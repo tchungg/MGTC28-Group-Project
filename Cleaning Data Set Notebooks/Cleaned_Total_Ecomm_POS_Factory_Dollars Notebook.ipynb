{
 "cells": [
  {
   "cell_type": "code",
   "execution_count": 1,
   "id": "96a2c916",
   "metadata": {},
   "outputs": [],
   "source": [
    "import pandas as pd\n",
    "\n",
    "# Load the original CSV file\n",
    "total_ecomm_df = pd.read_csv('~/Downloads/Kenvue_data/Total Ecomm POS (Factory $).csv')"
   ]
  },
  {
   "cell_type": "code",
   "execution_count": null,
   "id": "bf768bfe",
   "metadata": {},
   "outputs": [],
   "source": [
    "# Rename the columns\n",
    "total_ecomm_transformed = total_ecomm_df.rename(columns={\n",
    "    'Unnamed: 0': 'Need State', \n",
    "    'Unnamed: 1': 'Year'\n",
    "})"
   ]
  },
  {
   "cell_type": "code",
   "execution_count": 2,
   "id": "e09e0f15",
   "metadata": {},
   "outputs": [],
   "source": [
    "# Drop the first header row\n",
    "total_ecomm_transformed = total_ecomm_transformed.drop(0)"
   ]
  },
  {
   "cell_type": "code",
   "execution_count": null,
   "id": "b7ca15f3",
   "metadata": {},
   "outputs": [],
   "source": [
    "# Unpivot the DataFrame and clean the 'Week' column\n",
    "total_ecomm_unpivoted = total_ecomm_transformed.melt(id_vars=['Need State', 'Year'], var_name='Week', value_name='Amount')\n",
    "total_ecomm_unpivoted['Week'] = total_ecomm_unpivoted['Week'].str.extract('(\\d+)').astype(float)"
   ]
  },
  {
   "cell_type": "code",
   "execution_count": null,
   "id": "5c2956c3",
   "metadata": {},
   "outputs": [],
   "source": [
    "# Drop rows with NaN values in 'Week' column\n",
    "total_ecomm_unpivoted = total_ecomm_unpivoted.dropna(subset=['Week'])"
   ]
  },
  {
   "cell_type": "code",
   "execution_count": 3,
   "id": "0bb2436a",
   "metadata": {},
   "outputs": [],
   "source": [
    "# Convert 'Week' and 'Year' to integers\n",
    "total_ecomm_unpivoted['Week'] = total_ecomm_unpivoted['Week'].astype(int)\n",
    "total_ecomm_unpivoted['Year'] = total_ecomm_unpivoted['Year'].astype(int)"
   ]
  },
  {
   "cell_type": "code",
   "execution_count": 4,
   "id": "32069065",
   "metadata": {},
   "outputs": [],
   "source": [
    "# Reorder the columns\n",
    "final_total_ecomm_df = total_ecomm_unpivoted[['Year', 'Week', 'Need State', 'Amount']]"
   ]
  },
  {
   "cell_type": "code",
   "execution_count": null,
   "id": "2c72ae98",
   "metadata": {},
   "outputs": [],
   "source": [
    "# Save to a new CSV file\n",
    "final_total_ecomm_df.to_csv('~/Downloads/Kenvue_data/Cleaned_Total_Ecomm_POS_Factory_Dollars.csv', index=False)"
   ]
  }
 ],
 "metadata": {
  "kernelspec": {
   "display_name": "Python 3 (ipykernel)",
   "language": "python",
   "name": "python3"
  },
  "language_info": {
   "codemirror_mode": {
    "name": "ipython",
    "version": 3
   },
   "file_extension": ".py",
   "mimetype": "text/x-python",
   "name": "python",
   "nbconvert_exporter": "python",
   "pygments_lexer": "ipython3",
   "version": "3.11.4"
  }
 },
 "nbformat": 4,
 "nbformat_minor": 5
}

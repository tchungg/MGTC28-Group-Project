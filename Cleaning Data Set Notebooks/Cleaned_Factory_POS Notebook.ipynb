{
 "cells": [
  {
   "cell_type": "code",
   "execution_count": 1,
   "id": "8476793b",
   "metadata": {},
   "outputs": [],
   "source": [
    "import pandas as pd\n",
    "\n",
    "# Load the original CSV file\n",
    "original_df = pd.read_csv('~/Downloads/Kenvue_data/Factory POS.csv')"
   ]
  },
  {
   "cell_type": "code",
   "execution_count": 2,
   "id": "5b7f772a",
   "metadata": {},
   "outputs": [],
   "source": [
    "\n",
    "# Rename the columns\n",
    "df_transformed = original_df.rename(columns={\n",
    "    'Unnamed: 0': 'Need State', \n",
    "    'Unnamed: 1': 'Week', \n",
    "    'Fiscal Year': '2021', \n",
    "    'Fiscal Year.1': '2022', \n",
    "    'Fiscal Year.2': '2023'\n",
    "})\n",
    "\n",
    "# Drop the first header row\n",
    "df_transformed = df_transformed.drop(0)"
   ]
  },
  {
   "cell_type": "code",
   "execution_count": 3,
   "id": "30e1466a",
   "metadata": {},
   "outputs": [],
   "source": [
    "# Unpivot the DataFrame\n",
    "df_unpivoted = df_transformed.melt(id_vars=['Need State', 'Week'], var_name='Year', value_name='Amount')"
   ]
  },
  {
   "cell_type": "code",
   "execution_count": 4,
   "id": "fb4b0a49",
   "metadata": {},
   "outputs": [],
   "source": [
    "# Convert the 'Year' column to numeric and reorder the columns\n",
    "df_unpivoted['Year'] = df_unpivoted['Year'].astype(int)\n",
    "final_df = df_unpivoted[['Year', 'Week', 'Need State', 'Amount']]"
   ]
  },
  {
   "cell_type": "code",
   "execution_count": 5,
   "id": "bd2e2e6a",
   "metadata": {},
   "outputs": [],
   "source": [
    "# Save to a new CSV file\n",
    "final_df.to_csv('~/Downloads/Kenvue_data/Cleaned_Factory_POS Notebook.csv', index=False)\n"
   ]
  },
  {
   "cell_type": "code",
   "execution_count": null,
   "id": "78240c36",
   "metadata": {},
   "outputs": [],
   "source": []
  }
 ],
 "metadata": {
  "kernelspec": {
   "display_name": "Python 3 (ipykernel)",
   "language": "python",
   "name": "python3"
  },
  "language_info": {
   "codemirror_mode": {
    "name": "ipython",
    "version": 3
   },
   "file_extension": ".py",
   "mimetype": "text/x-python",
   "name": "python",
   "nbconvert_exporter": "python",
   "pygments_lexer": "ipython3",
   "version": "3.11.4"
  }
 },
 "nbformat": 4,
 "nbformat_minor": 5
}

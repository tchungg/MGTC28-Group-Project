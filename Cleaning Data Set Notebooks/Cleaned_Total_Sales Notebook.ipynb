{
 "cells": [
  {
   "cell_type": "code",
   "execution_count": 1,
   "id": "cc096765",
   "metadata": {},
   "outputs": [],
   "source": [
    "import pandas as pd"
   ]
  },
  {
   "cell_type": "code",
   "execution_count": 2,
   "id": "9ae973ca",
   "metadata": {},
   "outputs": [],
   "source": [
    "file_path = 'Downloads/Kenvue_data/Total Sales - UTSC Lecture.csv'"
   ]
  },
  {
   "cell_type": "code",
   "execution_count": 3,
   "id": "a7a81b3f",
   "metadata": {},
   "outputs": [],
   "source": [
    "data = pd.read_csv(file_path)"
   ]
  },
  {
   "cell_type": "code",
   "execution_count": 4,
   "id": "b68f3379",
   "metadata": {},
   "outputs": [
    {
     "data": {
      "text/html": [
       "<div>\n",
       "<style scoped>\n",
       "    .dataframe tbody tr th:only-of-type {\n",
       "        vertical-align: middle;\n",
       "    }\n",
       "\n",
       "    .dataframe tbody tr th {\n",
       "        vertical-align: top;\n",
       "    }\n",
       "\n",
       "    .dataframe thead th {\n",
       "        text-align: right;\n",
       "    }\n",
       "</style>\n",
       "<table border=\"1\" class=\"dataframe\">\n",
       "  <thead>\n",
       "    <tr style=\"text-align: right;\">\n",
       "      <th></th>\n",
       "      <th>Fiscal Year</th>\n",
       "      <th>Fiscal Week</th>\n",
       "      <th>Need State 1</th>\n",
       "      <th>Need State 2</th>\n",
       "      <th>Need State 3</th>\n",
       "      <th>Need State 4</th>\n",
       "      <th>Need State 5</th>\n",
       "    </tr>\n",
       "  </thead>\n",
       "  <tbody>\n",
       "    <tr>\n",
       "      <th>0</th>\n",
       "      <td>2021</td>\n",
       "      <td>1</td>\n",
       "      <td>132818.25</td>\n",
       "      <td>251858.25</td>\n",
       "      <td>209473.50</td>\n",
       "      <td>373678.50</td>\n",
       "      <td>246819.75</td>\n",
       "    </tr>\n",
       "    <tr>\n",
       "      <th>1</th>\n",
       "      <td>2021</td>\n",
       "      <td>2</td>\n",
       "      <td>395708.25</td>\n",
       "      <td>510633.75</td>\n",
       "      <td>683112.00</td>\n",
       "      <td>597628.50</td>\n",
       "      <td>465099.75</td>\n",
       "    </tr>\n",
       "    <tr>\n",
       "      <th>2</th>\n",
       "      <td>2021</td>\n",
       "      <td>3</td>\n",
       "      <td>207779.25</td>\n",
       "      <td>525278.25</td>\n",
       "      <td>627825.75</td>\n",
       "      <td>300238.50</td>\n",
       "      <td>548790.75</td>\n",
       "    </tr>\n",
       "    <tr>\n",
       "      <th>3</th>\n",
       "      <td>2021</td>\n",
       "      <td>4</td>\n",
       "      <td>323169.75</td>\n",
       "      <td>480166.50</td>\n",
       "      <td>318566.25</td>\n",
       "      <td>319001.25</td>\n",
       "      <td>553418.25</td>\n",
       "    </tr>\n",
       "    <tr>\n",
       "      <th>4</th>\n",
       "      <td>2021</td>\n",
       "      <td>5</td>\n",
       "      <td>71536.50</td>\n",
       "      <td>304409.25</td>\n",
       "      <td>439665.00</td>\n",
       "      <td>433508.25</td>\n",
       "      <td>323542.50</td>\n",
       "    </tr>\n",
       "  </tbody>\n",
       "</table>\n",
       "</div>"
      ],
      "text/plain": [
       "   Fiscal Year  Fiscal Week  Need State 1  Need State 2  Need State 3  \\\n",
       "0         2021            1     132818.25     251858.25     209473.50   \n",
       "1         2021            2     395708.25     510633.75     683112.00   \n",
       "2         2021            3     207779.25     525278.25     627825.75   \n",
       "3         2021            4     323169.75     480166.50     318566.25   \n",
       "4         2021            5      71536.50     304409.25     439665.00   \n",
       "\n",
       "   Need State 4  Need State 5  \n",
       "0     373678.50     246819.75  \n",
       "1     597628.50     465099.75  \n",
       "2     300238.50     548790.75  \n",
       "3     319001.25     553418.25  \n",
       "4     433508.25     323542.50  "
      ]
     },
     "execution_count": 4,
     "metadata": {},
     "output_type": "execute_result"
    }
   ],
   "source": [
    "data.head()"
   ]
  },
  {
   "cell_type": "code",
   "execution_count": 5,
   "id": "b5bf6c31",
   "metadata": {},
   "outputs": [],
   "source": [
    "cleaned_data = data.melt(id_vars=['Fiscal Year', 'Fiscal Week'], \n",
    "                         var_name='Need State', \n",
    "                         value_name='Amount')\n",
    "cleaned_data.rename(columns={'Fiscal Year': 'Year', 'Fiscal Week': 'Week'}, inplace=True)"
   ]
  },
  {
   "cell_type": "code",
   "execution_count": 6,
   "id": "871308c6",
   "metadata": {},
   "outputs": [],
   "source": [
    "cleaned_data.to_csv('Downloads/Kenvue_data/Cleaned_Total_Sales.csv', index=False)"
   ]
  },
  {
   "cell_type": "code",
   "execution_count": null,
   "id": "8b764164",
   "metadata": {},
   "outputs": [],
   "source": []
  }
 ],
 "metadata": {
  "kernelspec": {
   "display_name": "Python 3 (ipykernel)",
   "language": "python",
   "name": "python3"
  },
  "language_info": {
   "codemirror_mode": {
    "name": "ipython",
    "version": 3
   },
   "file_extension": ".py",
   "mimetype": "text/x-python",
   "name": "python",
   "nbconvert_exporter": "python",
   "pygments_lexer": "ipython3",
   "version": "3.11.4"
  }
 },
 "nbformat": 4,
 "nbformat_minor": 5
}

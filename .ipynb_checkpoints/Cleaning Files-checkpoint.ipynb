{
 "cells": [
  {
   "cell_type": "code",
   "execution_count": null,
   "id": "be0dfd55",
   "metadata": {},
   "outputs": [],
   "source": [
    "#How I Cleaned the Data:\n",
    "#Reorganized\n",
    "#Removed Missing Values\n",
    "#Removed Any Duplicates\n",
    "#Removed Any Zeros\n",
    "#Did not remove \"outliers\" as it's not appropriate for this context\n",
    "#Explored Data to identify potential issues/trends using multiple visualizations"
   ]
  },
  {
   "cell_type": "code",
   "execution_count": 6,
   "id": "a59da2c2",
   "metadata": {},
   "outputs": [],
   "source": [
    "import pandas as pd"
   ]
  },
  {
   "cell_type": "code",
   "execution_count": 7,
   "id": "a3b1997e",
   "metadata": {},
   "outputs": [
    {
     "data": {
      "text/plain": [
       "'/Users/tyrachung'"
      ]
     },
     "execution_count": 7,
     "metadata": {},
     "output_type": "execute_result"
    }
   ],
   "source": [
    "pwd"
   ]
  },
  {
   "cell_type": "code",
   "execution_count": 8,
   "id": "0a3e68d1",
   "metadata": {},
   "outputs": [
    {
     "name": "stdout",
     "output_type": "stream",
     "text": [
      "/Users/tyrachung/Desktop\n"
     ]
    }
   ],
   "source": [
    "cd Desktop"
   ]
  },
  {
   "cell_type": "code",
   "execution_count": 9,
   "id": "983b32dd",
   "metadata": {},
   "outputs": [],
   "source": [
    "#Load CSV Data \n",
    "df = pd.read_csv('~/Downloads/kenvue_data/Customer DC Inventory.csv',header=[0,1] )"
   ]
  },
  {
   "cell_type": "code",
   "execution_count": 10,
   "id": "b0e4caf9",
   "metadata": {},
   "outputs": [
    {
     "data": {
      "text/plain": [
       "MultiIndex([('Fiscal Year  /  Fiscal Week',         'Need State'),\n",
       "            (         'Unnamed: 1_level_0', 'Unnamed: 1_level_1'),\n",
       "            (                       '2021',                  '1'),\n",
       "            (                       '2021',                  '2'),\n",
       "            (                       '2021',                  '3'),\n",
       "            (                       '2021',                  '4'),\n",
       "            (                       '2021',                  '5'),\n",
       "            (                       '2021',                  '6'),\n",
       "            (                       '2021',                  '7'),\n",
       "            (                       '2021',                  '8'),\n",
       "            ...\n",
       "            (                       '2023',                 '43'),\n",
       "            (                       '2023',                 '44'),\n",
       "            (                       '2023',                 '45'),\n",
       "            (                       '2023',                 '46'),\n",
       "            (                       '2023',                 '47'),\n",
       "            (                       '2023',                 '48'),\n",
       "            (                       '2023',                 '49'),\n",
       "            (                       '2023',                 '50'),\n",
       "            (                       '2023',                 '51'),\n",
       "            (                       '2023',                 '52')],\n",
       "           length=158)"
      ]
     },
     "execution_count": 10,
     "metadata": {},
     "output_type": "execute_result"
    }
   ],
   "source": [
    "#Created a multi index and showing what it looks like\n",
    "df.columns"
   ]
  },
  {
   "cell_type": "code",
   "execution_count": 11,
   "id": "16b9ac40",
   "metadata": {},
   "outputs": [],
   "source": [
    "#Replacing unnamed header to customized index level\n",
    "df = df.set_index([('Fiscal Year  /  Fiscal Week', 'Need State'), ('Unnamed: 1_level_0', 'Unnamed: 1_level_1')])"
   ]
  },
  {
   "cell_type": "code",
   "execution_count": 12,
   "id": "d8626a01",
   "metadata": {},
   "outputs": [],
   "source": [
    "#Swapping rows & columns\n",
    "df = df.T"
   ]
  },
  {
   "cell_type": "code",
   "execution_count": 13,
   "id": "0277ca5a",
   "metadata": {},
   "outputs": [],
   "source": [
    "df = df.stack(0)"
   ]
  },
  {
   "cell_type": "code",
   "execution_count": 14,
   "id": "83e3cddb",
   "metadata": {},
   "outputs": [
    {
     "data": {
      "text/html": [
       "<div>\n",
       "<style scoped>\n",
       "    .dataframe tbody tr th:only-of-type {\n",
       "        vertical-align: middle;\n",
       "    }\n",
       "\n",
       "    .dataframe tbody tr th {\n",
       "        vertical-align: top;\n",
       "    }\n",
       "\n",
       "    .dataframe thead th {\n",
       "        text-align: right;\n",
       "    }\n",
       "</style>\n",
       "<table border=\"1\" class=\"dataframe\">\n",
       "  <thead>\n",
       "    <tr style=\"text-align: right;\">\n",
       "      <th></th>\n",
       "      <th></th>\n",
       "      <th>(Unnamed: 1_level_0, Unnamed: 1_level_1)</th>\n",
       "      <th>Dc Amount</th>\n",
       "      <th>Store Amt On Hand</th>\n",
       "    </tr>\n",
       "    <tr>\n",
       "      <th></th>\n",
       "      <th></th>\n",
       "      <th>(Fiscal Year  /  Fiscal Week, Need State)</th>\n",
       "      <th></th>\n",
       "      <th></th>\n",
       "    </tr>\n",
       "  </thead>\n",
       "  <tbody>\n",
       "    <tr>\n",
       "      <th rowspan=\"5\" valign=\"top\">2021</th>\n",
       "      <th rowspan=\"5\" valign=\"top\">1</th>\n",
       "      <th>Need State 1</th>\n",
       "      <td>1445929.50</td>\n",
       "      <td>3667244.25</td>\n",
       "    </tr>\n",
       "    <tr>\n",
       "      <th>Need State 2</th>\n",
       "      <td>2405549.25</td>\n",
       "      <td>2784957.75</td>\n",
       "    </tr>\n",
       "    <tr>\n",
       "      <th>Need State 3</th>\n",
       "      <td>1618319.25</td>\n",
       "      <td>3838764.00</td>\n",
       "    </tr>\n",
       "    <tr>\n",
       "      <th>Need State 4</th>\n",
       "      <td>1271980.50</td>\n",
       "      <td>1893348.00</td>\n",
       "    </tr>\n",
       "    <tr>\n",
       "      <th>Need State 5</th>\n",
       "      <td>601577.25</td>\n",
       "      <td>1055337.75</td>\n",
       "    </tr>\n",
       "    <tr>\n",
       "      <th>...</th>\n",
       "      <th>...</th>\n",
       "      <th>...</th>\n",
       "      <td>...</td>\n",
       "      <td>...</td>\n",
       "    </tr>\n",
       "    <tr>\n",
       "      <th rowspan=\"5\" valign=\"top\">2023</th>\n",
       "      <th rowspan=\"5\" valign=\"top\">52</th>\n",
       "      <th>Need State 2</th>\n",
       "      <td>0.00</td>\n",
       "      <td>0.00</td>\n",
       "    </tr>\n",
       "    <tr>\n",
       "      <th>Need State 3</th>\n",
       "      <td>0.00</td>\n",
       "      <td>0.00</td>\n",
       "    </tr>\n",
       "    <tr>\n",
       "      <th>Need State 4</th>\n",
       "      <td>0.00</td>\n",
       "      <td>0.00</td>\n",
       "    </tr>\n",
       "    <tr>\n",
       "      <th>Need State 5</th>\n",
       "      <td>0.00</td>\n",
       "      <td>0.00</td>\n",
       "    </tr>\n",
       "    <tr>\n",
       "      <th>Need State 6</th>\n",
       "      <td>0.00</td>\n",
       "      <td>0.00</td>\n",
       "    </tr>\n",
       "  </tbody>\n",
       "</table>\n",
       "<p>936 rows × 2 columns</p>\n",
       "</div>"
      ],
      "text/plain": [
       "('Unnamed: 1_level_0', 'Unnamed: 1_level_1')        Dc Amount  \\\n",
       "        (Fiscal Year  /  Fiscal Week, Need State)               \n",
       "2021 1  Need State 1                               1445929.50   \n",
       "        Need State 2                               2405549.25   \n",
       "        Need State 3                               1618319.25   \n",
       "        Need State 4                               1271980.50   \n",
       "        Need State 5                                601577.25   \n",
       "...                                                       ...   \n",
       "2023 52 Need State 2                                     0.00   \n",
       "        Need State 3                                     0.00   \n",
       "        Need State 4                                     0.00   \n",
       "        Need State 5                                     0.00   \n",
       "        Need State 6                                     0.00   \n",
       "\n",
       "('Unnamed: 1_level_0', 'Unnamed: 1_level_1')       Store Amt On Hand  \n",
       "        (Fiscal Year  /  Fiscal Week, Need State)                     \n",
       "2021 1  Need State 1                                      3667244.25  \n",
       "        Need State 2                                      2784957.75  \n",
       "        Need State 3                                      3838764.00  \n",
       "        Need State 4                                      1893348.00  \n",
       "        Need State 5                                      1055337.75  \n",
       "...                                                              ...  \n",
       "2023 52 Need State 2                                            0.00  \n",
       "        Need State 3                                            0.00  \n",
       "        Need State 4                                            0.00  \n",
       "        Need State 5                                            0.00  \n",
       "        Need State 6                                            0.00  \n",
       "\n",
       "[936 rows x 2 columns]"
      ]
     },
     "execution_count": 14,
     "metadata": {},
     "output_type": "execute_result"
    }
   ],
   "source": [
    "df"
   ]
  },
  {
   "cell_type": "code",
   "execution_count": 15,
   "id": "2a82c0a9",
   "metadata": {},
   "outputs": [],
   "source": [
    "#resetting to bring it back to the original index\n",
    "df=df.reset_index()"
   ]
  },
  {
   "cell_type": "code",
   "execution_count": 16,
   "id": "18f2a7f7",
   "metadata": {},
   "outputs": [],
   "source": [
    "#Renaming columns \n",
    "df = df.rename_axis(None,axis=1)\n",
    "df = df.rename(columns={df.columns[0]: \"Year\", df.columns[1]: \"Week\", df.columns[2]: \"Need States\"})"
   ]
  },
  {
   "cell_type": "code",
   "execution_count": 17,
   "id": "375ab804",
   "metadata": {},
   "outputs": [
    {
     "data": {
      "text/html": [
       "<div>\n",
       "<style scoped>\n",
       "    .dataframe tbody tr th:only-of-type {\n",
       "        vertical-align: middle;\n",
       "    }\n",
       "\n",
       "    .dataframe tbody tr th {\n",
       "        vertical-align: top;\n",
       "    }\n",
       "\n",
       "    .dataframe thead th {\n",
       "        text-align: right;\n",
       "    }\n",
       "</style>\n",
       "<table border=\"1\" class=\"dataframe\">\n",
       "  <thead>\n",
       "    <tr style=\"text-align: right;\">\n",
       "      <th></th>\n",
       "      <th>Year</th>\n",
       "      <th>Week</th>\n",
       "      <th>Need States</th>\n",
       "      <th>Dc Amount</th>\n",
       "      <th>Store Amt On Hand</th>\n",
       "    </tr>\n",
       "  </thead>\n",
       "  <tbody>\n",
       "    <tr>\n",
       "      <th>0</th>\n",
       "      <td>2021</td>\n",
       "      <td>1</td>\n",
       "      <td>Need State 1</td>\n",
       "      <td>1445929.50</td>\n",
       "      <td>3667244.25</td>\n",
       "    </tr>\n",
       "    <tr>\n",
       "      <th>1</th>\n",
       "      <td>2021</td>\n",
       "      <td>1</td>\n",
       "      <td>Need State 2</td>\n",
       "      <td>2405549.25</td>\n",
       "      <td>2784957.75</td>\n",
       "    </tr>\n",
       "    <tr>\n",
       "      <th>2</th>\n",
       "      <td>2021</td>\n",
       "      <td>1</td>\n",
       "      <td>Need State 3</td>\n",
       "      <td>1618319.25</td>\n",
       "      <td>3838764.00</td>\n",
       "    </tr>\n",
       "    <tr>\n",
       "      <th>3</th>\n",
       "      <td>2021</td>\n",
       "      <td>1</td>\n",
       "      <td>Need State 4</td>\n",
       "      <td>1271980.50</td>\n",
       "      <td>1893348.00</td>\n",
       "    </tr>\n",
       "    <tr>\n",
       "      <th>4</th>\n",
       "      <td>2021</td>\n",
       "      <td>1</td>\n",
       "      <td>Need State 5</td>\n",
       "      <td>601577.25</td>\n",
       "      <td>1055337.75</td>\n",
       "    </tr>\n",
       "    <tr>\n",
       "      <th>...</th>\n",
       "      <td>...</td>\n",
       "      <td>...</td>\n",
       "      <td>...</td>\n",
       "      <td>...</td>\n",
       "      <td>...</td>\n",
       "    </tr>\n",
       "    <tr>\n",
       "      <th>931</th>\n",
       "      <td>2023</td>\n",
       "      <td>52</td>\n",
       "      <td>Need State 2</td>\n",
       "      <td>0.00</td>\n",
       "      <td>0.00</td>\n",
       "    </tr>\n",
       "    <tr>\n",
       "      <th>932</th>\n",
       "      <td>2023</td>\n",
       "      <td>52</td>\n",
       "      <td>Need State 3</td>\n",
       "      <td>0.00</td>\n",
       "      <td>0.00</td>\n",
       "    </tr>\n",
       "    <tr>\n",
       "      <th>933</th>\n",
       "      <td>2023</td>\n",
       "      <td>52</td>\n",
       "      <td>Need State 4</td>\n",
       "      <td>0.00</td>\n",
       "      <td>0.00</td>\n",
       "    </tr>\n",
       "    <tr>\n",
       "      <th>934</th>\n",
       "      <td>2023</td>\n",
       "      <td>52</td>\n",
       "      <td>Need State 5</td>\n",
       "      <td>0.00</td>\n",
       "      <td>0.00</td>\n",
       "    </tr>\n",
       "    <tr>\n",
       "      <th>935</th>\n",
       "      <td>2023</td>\n",
       "      <td>52</td>\n",
       "      <td>Need State 6</td>\n",
       "      <td>0.00</td>\n",
       "      <td>0.00</td>\n",
       "    </tr>\n",
       "  </tbody>\n",
       "</table>\n",
       "<p>936 rows × 5 columns</p>\n",
       "</div>"
      ],
      "text/plain": [
       "     Year Week   Need States   Dc Amount  Store Amt On Hand\n",
       "0    2021    1  Need State 1  1445929.50         3667244.25\n",
       "1    2021    1  Need State 2  2405549.25         2784957.75\n",
       "2    2021    1  Need State 3  1618319.25         3838764.00\n",
       "3    2021    1  Need State 4  1271980.50         1893348.00\n",
       "4    2021    1  Need State 5   601577.25         1055337.75\n",
       "..    ...  ...           ...         ...                ...\n",
       "931  2023   52  Need State 2        0.00               0.00\n",
       "932  2023   52  Need State 3        0.00               0.00\n",
       "933  2023   52  Need State 4        0.00               0.00\n",
       "934  2023   52  Need State 5        0.00               0.00\n",
       "935  2023   52  Need State 6        0.00               0.00\n",
       "\n",
       "[936 rows x 5 columns]"
      ]
     },
     "execution_count": 17,
     "metadata": {},
     "output_type": "execute_result"
    }
   ],
   "source": [
    "df"
   ]
  },
  {
   "cell_type": "code",
   "execution_count": 18,
   "id": "beeedabc",
   "metadata": {},
   "outputs": [],
   "source": [
    "# Here I use the datetime function to convert the week# to an actual date for easy plotting\n",
    "df['Date'] = pd.to_datetime(df[\"Year\"].astype(str) + \"-\" + df[\"Week\"].astype(str) + \"-1\", format='%Y-%U-%w')"
   ]
  },
  {
   "cell_type": "code",
   "execution_count": 19,
   "id": "4edcc303",
   "metadata": {},
   "outputs": [
    {
     "data": {
      "text/html": [
       "<div>\n",
       "<style scoped>\n",
       "    .dataframe tbody tr th:only-of-type {\n",
       "        vertical-align: middle;\n",
       "    }\n",
       "\n",
       "    .dataframe tbody tr th {\n",
       "        vertical-align: top;\n",
       "    }\n",
       "\n",
       "    .dataframe thead th {\n",
       "        text-align: right;\n",
       "    }\n",
       "</style>\n",
       "<table border=\"1\" class=\"dataframe\">\n",
       "  <thead>\n",
       "    <tr style=\"text-align: right;\">\n",
       "      <th></th>\n",
       "      <th>Year</th>\n",
       "      <th>Week</th>\n",
       "      <th>Need States</th>\n",
       "      <th>Dc Amount</th>\n",
       "      <th>Store Amt On Hand</th>\n",
       "      <th>Date</th>\n",
       "    </tr>\n",
       "  </thead>\n",
       "  <tbody>\n",
       "    <tr>\n",
       "      <th>0</th>\n",
       "      <td>2021</td>\n",
       "      <td>1</td>\n",
       "      <td>Need State 1</td>\n",
       "      <td>1445929.50</td>\n",
       "      <td>3667244.25</td>\n",
       "      <td>2021-01-04</td>\n",
       "    </tr>\n",
       "    <tr>\n",
       "      <th>1</th>\n",
       "      <td>2021</td>\n",
       "      <td>1</td>\n",
       "      <td>Need State 2</td>\n",
       "      <td>2405549.25</td>\n",
       "      <td>2784957.75</td>\n",
       "      <td>2021-01-04</td>\n",
       "    </tr>\n",
       "    <tr>\n",
       "      <th>2</th>\n",
       "      <td>2021</td>\n",
       "      <td>1</td>\n",
       "      <td>Need State 3</td>\n",
       "      <td>1618319.25</td>\n",
       "      <td>3838764.00</td>\n",
       "      <td>2021-01-04</td>\n",
       "    </tr>\n",
       "    <tr>\n",
       "      <th>3</th>\n",
       "      <td>2021</td>\n",
       "      <td>1</td>\n",
       "      <td>Need State 4</td>\n",
       "      <td>1271980.50</td>\n",
       "      <td>1893348.00</td>\n",
       "      <td>2021-01-04</td>\n",
       "    </tr>\n",
       "    <tr>\n",
       "      <th>4</th>\n",
       "      <td>2021</td>\n",
       "      <td>1</td>\n",
       "      <td>Need State 5</td>\n",
       "      <td>601577.25</td>\n",
       "      <td>1055337.75</td>\n",
       "      <td>2021-01-04</td>\n",
       "    </tr>\n",
       "    <tr>\n",
       "      <th>...</th>\n",
       "      <td>...</td>\n",
       "      <td>...</td>\n",
       "      <td>...</td>\n",
       "      <td>...</td>\n",
       "      <td>...</td>\n",
       "      <td>...</td>\n",
       "    </tr>\n",
       "    <tr>\n",
       "      <th>931</th>\n",
       "      <td>2023</td>\n",
       "      <td>52</td>\n",
       "      <td>Need State 2</td>\n",
       "      <td>0.00</td>\n",
       "      <td>0.00</td>\n",
       "      <td>2023-12-25</td>\n",
       "    </tr>\n",
       "    <tr>\n",
       "      <th>932</th>\n",
       "      <td>2023</td>\n",
       "      <td>52</td>\n",
       "      <td>Need State 3</td>\n",
       "      <td>0.00</td>\n",
       "      <td>0.00</td>\n",
       "      <td>2023-12-25</td>\n",
       "    </tr>\n",
       "    <tr>\n",
       "      <th>933</th>\n",
       "      <td>2023</td>\n",
       "      <td>52</td>\n",
       "      <td>Need State 4</td>\n",
       "      <td>0.00</td>\n",
       "      <td>0.00</td>\n",
       "      <td>2023-12-25</td>\n",
       "    </tr>\n",
       "    <tr>\n",
       "      <th>934</th>\n",
       "      <td>2023</td>\n",
       "      <td>52</td>\n",
       "      <td>Need State 5</td>\n",
       "      <td>0.00</td>\n",
       "      <td>0.00</td>\n",
       "      <td>2023-12-25</td>\n",
       "    </tr>\n",
       "    <tr>\n",
       "      <th>935</th>\n",
       "      <td>2023</td>\n",
       "      <td>52</td>\n",
       "      <td>Need State 6</td>\n",
       "      <td>0.00</td>\n",
       "      <td>0.00</td>\n",
       "      <td>2023-12-25</td>\n",
       "    </tr>\n",
       "  </tbody>\n",
       "</table>\n",
       "<p>936 rows × 6 columns</p>\n",
       "</div>"
      ],
      "text/plain": [
       "     Year Week   Need States   Dc Amount  Store Amt On Hand       Date\n",
       "0    2021    1  Need State 1  1445929.50         3667244.25 2021-01-04\n",
       "1    2021    1  Need State 2  2405549.25         2784957.75 2021-01-04\n",
       "2    2021    1  Need State 3  1618319.25         3838764.00 2021-01-04\n",
       "3    2021    1  Need State 4  1271980.50         1893348.00 2021-01-04\n",
       "4    2021    1  Need State 5   601577.25         1055337.75 2021-01-04\n",
       "..    ...  ...           ...         ...                ...        ...\n",
       "931  2023   52  Need State 2        0.00               0.00 2023-12-25\n",
       "932  2023   52  Need State 3        0.00               0.00 2023-12-25\n",
       "933  2023   52  Need State 4        0.00               0.00 2023-12-25\n",
       "934  2023   52  Need State 5        0.00               0.00 2023-12-25\n",
       "935  2023   52  Need State 6        0.00               0.00 2023-12-25\n",
       "\n",
       "[936 rows x 6 columns]"
      ]
     },
     "execution_count": 19,
     "metadata": {},
     "output_type": "execute_result"
    }
   ],
   "source": [
    "df"
   ]
  },
  {
   "cell_type": "code",
   "execution_count": 20,
   "id": "b30986de",
   "metadata": {},
   "outputs": [],
   "source": [
    "#check for missing values\n",
    "missing_values=(df.isnull().sum())"
   ]
  },
  {
   "cell_type": "code",
   "execution_count": 21,
   "id": "0a13bab3",
   "metadata": {},
   "outputs": [
    {
     "data": {
      "text/plain": [
       "Year                 0\n",
       "Week                 0\n",
       "Need States          0\n",
       "Dc Amount            0\n",
       "Store Amt On Hand    0\n",
       "Date                 0\n",
       "dtype: int64"
      ]
     },
     "execution_count": 21,
     "metadata": {},
     "output_type": "execute_result"
    }
   ],
   "source": [
    "missing_values"
   ]
  },
  {
   "cell_type": "code",
   "execution_count": 22,
   "id": "67390b6b",
   "metadata": {},
   "outputs": [],
   "source": [
    "#no missing values"
   ]
  },
  {
   "cell_type": "code",
   "execution_count": 23,
   "id": "afea7338",
   "metadata": {},
   "outputs": [],
   "source": [
    "#remove duplicates\n",
    "df_duplicates = df.drop_duplicates()"
   ]
  },
  {
   "cell_type": "code",
   "execution_count": 24,
   "id": "7378ccb4",
   "metadata": {},
   "outputs": [],
   "source": [
    "#finding rows with zeros in any column\n",
    "rows_with_zeros = df[(df == 0).any(axis=1)]"
   ]
  },
  {
   "cell_type": "code",
   "execution_count": 25,
   "id": "921fad3f",
   "metadata": {},
   "outputs": [],
   "source": [
    "# Remove rows with zeros\n",
    "df_no_zeros = df[(df != 0).all(axis=1)]"
   ]
  },
  {
   "cell_type": "code",
   "execution_count": 27,
   "id": "ad1f7981",
   "metadata": {},
   "outputs": [
    {
     "data": {
      "text/html": [
       "<div>\n",
       "<style scoped>\n",
       "    .dataframe tbody tr th:only-of-type {\n",
       "        vertical-align: middle;\n",
       "    }\n",
       "\n",
       "    .dataframe tbody tr th {\n",
       "        vertical-align: top;\n",
       "    }\n",
       "\n",
       "    .dataframe thead th {\n",
       "        text-align: right;\n",
       "    }\n",
       "</style>\n",
       "<table border=\"1\" class=\"dataframe\">\n",
       "  <thead>\n",
       "    <tr style=\"text-align: right;\">\n",
       "      <th></th>\n",
       "      <th>Year</th>\n",
       "      <th>Week</th>\n",
       "      <th>Need States</th>\n",
       "      <th>Dc Amount</th>\n",
       "      <th>Store Amt On Hand</th>\n",
       "      <th>Date</th>\n",
       "    </tr>\n",
       "  </thead>\n",
       "  <tbody>\n",
       "    <tr>\n",
       "      <th>0</th>\n",
       "      <td>2021</td>\n",
       "      <td>1</td>\n",
       "      <td>Need State 1</td>\n",
       "      <td>1445929.50</td>\n",
       "      <td>3667244.25</td>\n",
       "      <td>2021-01-04</td>\n",
       "    </tr>\n",
       "    <tr>\n",
       "      <th>1</th>\n",
       "      <td>2021</td>\n",
       "      <td>1</td>\n",
       "      <td>Need State 2</td>\n",
       "      <td>2405549.25</td>\n",
       "      <td>2784957.75</td>\n",
       "      <td>2021-01-04</td>\n",
       "    </tr>\n",
       "    <tr>\n",
       "      <th>2</th>\n",
       "      <td>2021</td>\n",
       "      <td>1</td>\n",
       "      <td>Need State 3</td>\n",
       "      <td>1618319.25</td>\n",
       "      <td>3838764.00</td>\n",
       "      <td>2021-01-04</td>\n",
       "    </tr>\n",
       "    <tr>\n",
       "      <th>3</th>\n",
       "      <td>2021</td>\n",
       "      <td>1</td>\n",
       "      <td>Need State 4</td>\n",
       "      <td>1271980.50</td>\n",
       "      <td>1893348.00</td>\n",
       "      <td>2021-01-04</td>\n",
       "    </tr>\n",
       "    <tr>\n",
       "      <th>4</th>\n",
       "      <td>2021</td>\n",
       "      <td>1</td>\n",
       "      <td>Need State 5</td>\n",
       "      <td>601577.25</td>\n",
       "      <td>1055337.75</td>\n",
       "      <td>2021-01-04</td>\n",
       "    </tr>\n",
       "    <tr>\n",
       "      <th>...</th>\n",
       "      <td>...</td>\n",
       "      <td>...</td>\n",
       "      <td>...</td>\n",
       "      <td>...</td>\n",
       "      <td>...</td>\n",
       "      <td>...</td>\n",
       "    </tr>\n",
       "    <tr>\n",
       "      <th>865</th>\n",
       "      <td>2023</td>\n",
       "      <td>41</td>\n",
       "      <td>Need State 2</td>\n",
       "      <td>1084670.25</td>\n",
       "      <td>4117591.50</td>\n",
       "      <td>2023-10-09</td>\n",
       "    </tr>\n",
       "    <tr>\n",
       "      <th>866</th>\n",
       "      <td>2023</td>\n",
       "      <td>41</td>\n",
       "      <td>Need State 3</td>\n",
       "      <td>1180187.25</td>\n",
       "      <td>4954347.00</td>\n",
       "      <td>2023-10-09</td>\n",
       "    </tr>\n",
       "    <tr>\n",
       "      <th>867</th>\n",
       "      <td>2023</td>\n",
       "      <td>41</td>\n",
       "      <td>Need State 4</td>\n",
       "      <td>737967.00</td>\n",
       "      <td>1948076.25</td>\n",
       "      <td>2023-10-09</td>\n",
       "    </tr>\n",
       "    <tr>\n",
       "      <th>868</th>\n",
       "      <td>2023</td>\n",
       "      <td>41</td>\n",
       "      <td>Need State 5</td>\n",
       "      <td>1352883.75</td>\n",
       "      <td>1329480.75</td>\n",
       "      <td>2023-10-09</td>\n",
       "    </tr>\n",
       "    <tr>\n",
       "      <th>869</th>\n",
       "      <td>2023</td>\n",
       "      <td>41</td>\n",
       "      <td>Need State 6</td>\n",
       "      <td>756188.25</td>\n",
       "      <td>3502093.50</td>\n",
       "      <td>2023-10-09</td>\n",
       "    </tr>\n",
       "  </tbody>\n",
       "</table>\n",
       "<p>870 rows × 6 columns</p>\n",
       "</div>"
      ],
      "text/plain": [
       "     Year Week   Need States   Dc Amount  Store Amt On Hand       Date\n",
       "0    2021    1  Need State 1  1445929.50         3667244.25 2021-01-04\n",
       "1    2021    1  Need State 2  2405549.25         2784957.75 2021-01-04\n",
       "2    2021    1  Need State 3  1618319.25         3838764.00 2021-01-04\n",
       "3    2021    1  Need State 4  1271980.50         1893348.00 2021-01-04\n",
       "4    2021    1  Need State 5   601577.25         1055337.75 2021-01-04\n",
       "..    ...  ...           ...         ...                ...        ...\n",
       "865  2023   41  Need State 2  1084670.25         4117591.50 2023-10-09\n",
       "866  2023   41  Need State 3  1180187.25         4954347.00 2023-10-09\n",
       "867  2023   41  Need State 4   737967.00         1948076.25 2023-10-09\n",
       "868  2023   41  Need State 5  1352883.75         1329480.75 2023-10-09\n",
       "869  2023   41  Need State 6   756188.25         3502093.50 2023-10-09\n",
       "\n",
       "[870 rows x 6 columns]"
      ]
     },
     "execution_count": 27,
     "metadata": {},
     "output_type": "execute_result"
    }
   ],
   "source": [
    "# Checking to make sure rows were removed\n",
    "df_no_zeros"
   ]
  },
  {
   "cell_type": "code",
   "execution_count": 32,
   "id": "0ade4444",
   "metadata": {},
   "outputs": [],
   "source": [
    "#renaming back to df\n",
    "df = df_no_zeros"
   ]
  },
  {
   "cell_type": "code",
   "execution_count": 42,
   "id": "81039bad",
   "metadata": {},
   "outputs": [],
   "source": [
    "#importing libraries for data analysis\n",
    "import matplotlib.pyplot as plt"
   ]
  },
  {
   "cell_type": "code",
   "execution_count": 41,
   "id": "3d5f8d34",
   "metadata": {},
   "outputs": [],
   "source": [
    "import seaborn as sns"
   ]
  },
  {
   "cell_type": "code",
   "execution_count": 57,
   "id": "236607c9",
   "metadata": {},
   "outputs": [
    {
     "data": {
      "text/plain": [
       "<Axes: xlabel='Week', ylabel='Dc Amount'>"
      ]
     },
     "execution_count": 57,
     "metadata": {},
     "output_type": "execute_result"
    },
    {
     "data": {
      "image/png": "[encoded data removed]",
      "text/plain": [
       "<Figure size 640x480 with 1 Axes>"
      ]
     },
     "metadata": {},
     "output_type": "display_data"
    }
   ],
   "source": [
    "sns.lineplot(data = df, x='Week', y='Dc Amount', hue='Year')"
   ]
  },
  {
   "cell_type": "raw",
   "id": "b4c5e815",
   "metadata": {},
   "source": []
  },
  {
   "cell_type": "code",
   "execution_count": 60,
   "id": "17dd907c",
   "metadata": {},
   "outputs": [],
   "source": [
    "#Creating a clean csv file\n",
    "df.to_csv('~/Downloads/kenvue_data/cleaned_customer_dc_inventory.csv', index=False)"
   ]
  },
  {
   "cell_type": "code",
   "execution_count": 1,
   "id": "a8cbcf47",
   "metadata": {},
   "outputs": [
    {
     "data": {
      "text/plain": [
       "'/Users/tyrachung'"
      ]
     },
     "execution_count": 1,
     "metadata": {},
     "output_type": "execute_result"
    }
   ],
   "source": [
    "pwd"
   ]
  },
  {
   "cell_type": "code",
   "execution_count": null,
   "id": "7afa9896",
   "metadata": {},
   "outputs": [],
   "source": []
  }
 ],
 "metadata": {
  "kernelspec": {
   "display_name": "Python 3 (ipykernel)",
   "language": "python",
   "name": "python3"
  },
  "language_info": {
   "codemirror_mode": {
    "name": "ipython",
    "version": 3
   },
   "file_extension": ".py",
   "mimetype": "text/x-python",
   "name": "python",
   "nbconvert_exporter": "python",
   "pygments_lexer": "ipython3",
   "version": "3.11.4"
  }
 },
 "nbformat": 4,
 "nbformat_minor": 5
}

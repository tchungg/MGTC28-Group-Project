{
 "cells": [
  {
   "cell_type": "code",
   "execution_count": 99,
   "id": "016adf1e-8f01-4645-9971-7a8227819768",
   "metadata": {},
   "outputs": [],
   "source": [
    "import pandas as pd"
   ]
  },
  {
   "cell_type": "code",
   "execution_count": 102,
   "id": "53955aed-d563-44f3-a36b-d09e18c72ab0",
   "metadata": {},
   "outputs": [],
   "source": [
    "df = pd.read_csv('Data/cleaned_combined_dataset.csv')"
   ]
  },
  {
   "cell_type": "code",
   "execution_count": 105,
   "id": "39a2dc46-6ac5-4125-8d04-ddef56c940ac",
   "metadata": {},
   "outputs": [],
   "source": [
    "filtered_df = df[df['Need State'] == 'Need State 3'][['Date', 'Year', 'Week', 'Amount_Factory_POS', 'Dc Amount', 'Store Amt On Hand']]"
   ]
  },
  {
   "cell_type": "code",
   "execution_count": 109,
   "id": "0626f238-333c-4ac5-a245-08a63f7c6693",
   "metadata": {},
   "outputs": [],
   "source": [
    "# Filtering the data for the period 2021-2023\n",
    "df_period = filtered_df[filtered_df['Year'].between(2021, 2023)]"
   ]
  },
  {
   "cell_type": "code",
   "execution_count": 112,
   "id": "57ce1dcf-ab45-43fc-a48f-c9153288d42f",
   "metadata": {},
   "outputs": [],
   "source": [
    "total_sales_period = filtered_df['Amount_Factory_POS'].sum()"
   ]
  },
  {
   "cell_type": "code",
   "execution_count": 115,
   "id": "34fe6dc8-114f-43c5-8424-8be1e5a7215c",
   "metadata": {},
   "outputs": [],
   "source": [
    "# Calculating average inventory for the period\n",
    "# We'll take the average of the first and last available inventory values in the period\n",
    "beginning_inventory_period = df_period.iloc[0]['Dc Amount'] + df_period.iloc[0]['Store Amt On Hand']\n",
    "ending_inventory_period = df_period.dropna().tail(1)['Dc Amount'].values[0] + df_period.dropna().tail(1)['Store Amt On Hand'].values[0]\n",
    "average_inventory_period = (beginning_inventory_period + ending_inventory_period) / 2"
   ]
  },
  {
   "cell_type": "code",
   "execution_count": 118,
   "id": "8cc426de-d822-49d7-b6e4-54a636cd8d03",
   "metadata": {},
   "outputs": [],
   "source": [
    "# Calculating inventory turnover rate for the period\n",
    "inventory_turnover_rate_period = total_sales_period / average_inventory_period if average_inventory_period != 0 else None"
   ]
  },
  {
   "cell_type": "code",
   "execution_count": 121,
   "id": "be02ba99-2775-4fcc-b63d-3601c89f4c33",
   "metadata": {},
   "outputs": [
    {
     "data": {
      "text/plain": [
       "(50301380.25, 5457083.25, 4241659.875, 4849371.5625, 10.372762656295219)"
      ]
     },
     "execution_count": 121,
     "metadata": {},
     "output_type": "execute_result"
    }
   ],
   "source": [
    "total_sales_period, beginning_inventory_period, ending_inventory_period, average_inventory_period, inventory_turnover_rate_period"
   ]
  },
  {
   "cell_type": "code",
   "execution_count": null,
   "id": "01e004af-ee38-48c3-a614-5d23c0b3f2a5",
   "metadata": {},
   "outputs": [],
   "source": []
  }
 ],
 "metadata": {
  "kernelspec": {
   "display_name": "anaconda-panel-2023.05-py310",
   "language": "python",
   "name": "conda-env-anaconda-panel-2023.05-py310-py"
  },
  "language_info": {
   "codemirror_mode": {
    "name": "ipython",
    "version": 3
   },
   "file_extension": ".py",
   "mimetype": "text/x-python",
   "name": "python",
   "nbconvert_exporter": "python",
   "pygments_lexer": "ipython3",
   "version": "3.11.5"
  }
 },
 "nbformat": 4,
 "nbformat_minor": 5
}
